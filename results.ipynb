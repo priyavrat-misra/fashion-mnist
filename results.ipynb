{
 "metadata": {
  "language_info": {
   "codemirror_mode": {
    "name": "ipython",
    "version": 3
   },
   "file_extension": ".py",
   "mimetype": "text/x-python",
   "name": "python",
   "nbconvert_exporter": "python",
   "pygments_lexer": "ipython3",
   "version": "3.8.5-final"
  },
  "orig_nbformat": 2,
  "kernelspec": {
   "name": "python3",
   "display_name": "Python 3"
  }
 },
 "nbformat": 4,
 "nbformat_minor": 2,
 "cells": [
  {
   "cell_type": "code",
   "execution_count": 1,
   "metadata": {},
   "outputs": [],
   "source": [
    "import torch\n",
    "import torchvision\n",
    "import torchvision.transforms as transforms\n",
    "\n",
    "from network import Network\n",
    "from utils import device, get_all_preds, get_num_correct"
   ]
  },
  {
   "cell_type": "code",
   "execution_count": 2,
   "metadata": {},
   "outputs": [
    {
     "output_type": "execute_result",
     "data": {
      "text/plain": [
       "<All keys matched successfully>"
      ]
     },
     "metadata": {},
     "execution_count": 2
    }
   ],
   "source": [
    "model = Network().to(device)\n",
    "model.load_state_dict(torch.load('models/model-run(lr=0.003, batch_size=256).ckpt', map_location=device))"
   ]
  },
  {
   "cell_type": "code",
   "execution_count": 13,
   "metadata": {},
   "outputs": [
    {
     "output_type": "execute_result",
     "data": {
      "text/plain": [
       "Network(\n",
       "  (layer1): Sequential(\n",
       "    (0): Conv2d(1, 8, kernel_size=(5, 5), stride=(1, 1), padding=(2, 2))\n",
       "    (1): BatchNorm2d(8, eps=1e-05, momentum=0.1, affine=True, track_running_stats=True)\n",
       "    (2): ReLU()\n",
       "    (3): MaxPool2d(kernel_size=2, stride=2, padding=0, dilation=1, ceil_mode=False)\n",
       "  )\n",
       "  (layer2): Sequential(\n",
       "    (0): Conv2d(8, 16, kernel_size=(5, 5), stride=(1, 1), padding=(2, 2))\n",
       "    (1): BatchNorm2d(16, eps=1e-05, momentum=0.1, affine=True, track_running_stats=True)\n",
       "    (2): ReLU()\n",
       "    (3): MaxPool2d(kernel_size=2, stride=2, padding=0, dilation=1, ceil_mode=False)\n",
       "  )\n",
       "  (fc1): Sequential(\n",
       "    (0): Linear(in_features=784, out_features=128, bias=True)\n",
       "    (1): BatchNorm1d(128, eps=1e-05, momentum=0.1, affine=True, track_running_stats=True)\n",
       "    (2): Dropout(p=0.2, inplace=False)\n",
       "    (3): ReLU()\n",
       "  )\n",
       "  (fc2): Sequential(\n",
       "    (0): Linear(in_features=128, out_features=64, bias=True)\n",
       "    (1): BatchNorm1d(64, eps=1e-05, momentum=0.1, affine=True, track_running_stats=True)\n",
       "    (2): ReLU()\n",
       "  )\n",
       "  (out): Linear(in_features=64, out_features=10, bias=True)\n",
       ")"
      ]
     },
     "metadata": {},
     "execution_count": 13
    }
   ],
   "source": [
    "model"
   ]
  },
  {
   "cell_type": "code",
   "execution_count": 3,
   "metadata": {},
   "outputs": [],
   "source": [
    "transform = transforms.Compose([transforms.ToTensor(),\n",
    "                                transforms.Normalize((0.5,), (0.5,))])\n",
    "\n",
    "train_set = torchvision.datasets.FashionMNIST(\n",
    "    root='./data/',\n",
    "    train=True,\n",
    "    download=True,\n",
    "    transform=transform\n",
    ")\n",
    "test_set = torchvision.datasets.FashionMNIST(\n",
    "    root='./data/',\n",
    "    train=False,\n",
    "    download=True,\n",
    "    transform=transform\n",
    ")"
   ]
  },
  {
   "cell_type": "code",
   "execution_count": 4,
   "metadata": {},
   "outputs": [
    {
     "output_type": "stream",
     "name": "stdout",
     "text": [
      "torch.Size([60000, 10])\ntorch.Size([10000, 10])\n"
     ]
    }
   ],
   "source": [
    "model.eval()\n",
    "with torch.no_grad():\n",
    "    train_loader = torch.utils.data.DataLoader(train_set, batch_size=6000)\n",
    "    train_preds = get_all_preds(model, train_loader)\n",
    "    test_loader = torch.utils.data.DataLoader(test_set, batch_size=1000)\n",
    "    test_preds = get_all_preds(model, test_loader)\n",
    "    print(train_preds.shape)\n",
    "    print(test_preds.shape)"
   ]
  },
  {
   "cell_type": "code",
   "execution_count": 7,
   "metadata": {},
   "outputs": [
    {
     "output_type": "stream",
     "name": "stdout",
     "text": [
      "Train Correct: 59018\tTrain Accuracy: 98.36%\nTest Correct:   9108\tTest Accuracy:  91.08%\n"
     ]
    }
   ],
   "source": [
    "train_correct = get_num_correct(train_preds, train_set.targets)\n",
    "test_correct = get_num_correct(test_preds, test_set.targets)\n",
    "\n",
    "print('Train Correct: {:5}\\tTrain Accuracy: {:5.2f}%'.format(train_correct, 100*train_correct/len(train_set)))\n",
    "print('Test Correct: {:6}\\tTest Accuracy: {:6.2f}%'.format(test_correct, 100*test_correct/len(test_set)))"
   ]
  },
  {
   "cell_type": "code",
   "execution_count": 8,
   "metadata": {},
   "outputs": [],
   "source": [
    "train_stacked = torch.stack(\n",
    "    (train_set.targets, train_preds.argmax(dim=1)),\n",
    "    dim=1\n",
    ")\n",
    "test_stacked = torch.stack(\n",
    "    (test_set.targets, test_preds.argmax(dim=1)),\n",
    "    dim=1\n",
    ")\n",
    "train_confmat = torch.zeros(10, 10, dtype=torch.int16)\n",
    "test_confmat = torch.zeros(10, 10, dtype=torch.int16)"
   ]
  },
  {
   "cell_type": "code",
   "execution_count": 9,
   "metadata": {},
   "outputs": [
    {
     "output_type": "stream",
     "name": "stdout",
     "text": [
      "['T-shirt/top', 'Trouser', 'Pullover', 'Dress', 'Coat', 'Sandal', 'Shirt', 'Sneaker', 'Bag', 'Ankle boot']\n"
     ]
    },
    {
     "output_type": "execute_result",
     "data": {
      "text/plain": [
       "tensor([[5764,    0,    7,   33,    1,    1,  194,    0,    0,    0],\n",
       "        [   1, 5989,    0,   10,    0,    0,    0,    0,    0,    0],\n",
       "        [  28,    0, 5866,    4,   50,    0,   52,    0,    0,    0],\n",
       "        [   8,    0,    4, 5966,   11,    0,   11,    0,    0,    0],\n",
       "        [   3,    0,  127,   32, 5803,    0,   35,    0,    0,    0],\n",
       "        [   0,    0,    0,    0,    0, 5994,    0,    5,    0,    1],\n",
       "        [ 110,    0,   93,   18,   57,    0, 5721,    0,    1,    0],\n",
       "        [   0,    0,    0,    0,    0,   11,    0, 5985,    0,    4],\n",
       "        [   1,    0,    1,    0,    1,    0,    0,    0, 5997,    0],\n",
       "        [   0,    0,    0,    0,    0,    5,    0,   62,    0, 5933]],\n",
       "       dtype=torch.int16)"
      ]
     },
     "metadata": {},
     "execution_count": 9
    }
   ],
   "source": [
    "print(train_set.classes)\n",
    "for row in train_stacked:\n",
    "    cl, pl = row.tolist()\n",
    "    train_confmat[cl, pl] += 1\n",
    "\n",
    "train_confmat"
   ]
  },
  {
   "cell_type": "code",
   "execution_count": 10,
   "metadata": {},
   "outputs": [
    {
     "output_type": "stream",
     "name": "stdout",
     "text": [
      "['T-shirt/top', 'Trouser', 'Pullover', 'Dress', 'Coat', 'Sandal', 'Shirt', 'Sneaker', 'Bag', 'Ankle boot']\n"
     ]
    },
    {
     "output_type": "execute_result",
     "data": {
      "text/plain": [
       "tensor([[841,   0,  12,  15,   3,   0, 124,   0,   5,   0],\n",
       "        [  1, 978,   0,  14,   1,   0,   3,   0,   3,   0],\n",
       "        [ 21,   1, 863,   9,  47,   0,  59,   0,   0,   0],\n",
       "        [ 13,   2,   8, 928,  22,   0,  27,   0,   0,   0],\n",
       "        [  2,   0,  65,  26, 845,   0,  61,   0,   1,   0],\n",
       "        [  0,   0,   0,   0,   0, 987,   0,  10,   0,   3],\n",
       "        [ 90,   0,  65,  26,  67,   0, 747,   0,   5,   0],\n",
       "        [  0,   0,   0,   0,   0,   6,   0, 982,   1,  11],\n",
       "        [  2,   1,   2,   3,   3,   2,   3,   2, 982,   0],\n",
       "        [  1,   0,   0,   0,   1,   4,   0,  39,   0, 955]], dtype=torch.int16)"
      ]
     },
     "metadata": {},
     "execution_count": 10
    }
   ],
   "source": [
    "print(test_set.classes)\n",
    "for row in test_stacked:\n",
    "    cl, pl = row.tolist()\n",
    "    test_confmat[cl, pl] += 1\n",
    "\n",
    "test_confmat"
   ]
  },
  {
   "cell_type": "code",
   "execution_count": 11,
   "metadata": {},
   "outputs": [
    {
     "output_type": "stream",
     "name": "stdout",
     "text": [
      "Train accuracy of T-shirt/top :\t96.07% (5764/6000)\nTrain accuracy of Trouser     :\t99.82% (5989/6000)\nTrain accuracy of Pullover    :\t97.77% (5866/6000)\nTrain accuracy of Dress       :\t99.43% (5966/6000)\nTrain accuracy of Coat        :\t96.72% (5803/6000)\nTrain accuracy of Sandal      :\t99.90% (5994/6000)\nTrain accuracy of Shirt       :\t95.35% (5721/6000)\nTrain accuracy of Sneaker     :\t99.75% (5985/6000)\nTrain accuracy of Bag         :\t99.95% (5997/6000)\nTrain accuracy of Ankle boot  :\t98.88% (5933/6000)\n"
     ]
    }
   ],
   "source": [
    "for i in range(10):\n",
    "    print('Train accuracy of {:12s}:\\t{:.2f}% ({}/{})'.format(\n",
    "        train_set.classes[i],\n",
    "        train_confmat[i, i]/60,\n",
    "        train_confmat[i, i],\n",
    "        6000))"
   ]
  },
  {
   "cell_type": "code",
   "execution_count": 12,
   "metadata": {},
   "outputs": [
    {
     "output_type": "stream",
     "name": "stdout",
     "text": [
      "Test accuracy of T-shirt/top :\t84.10% (841/1000)\nTest accuracy of Trouser     :\t97.80% (978/1000)\nTest accuracy of Pullover    :\t86.30% (863/1000)\nTest accuracy of Dress       :\t92.80% (928/1000)\nTest accuracy of Coat        :\t84.50% (845/1000)\nTest accuracy of Sandal      :\t98.70% (987/1000)\nTest accuracy of Shirt       :\t74.70% (747/1000)\nTest accuracy of Sneaker     :\t98.20% (982/1000)\nTest accuracy of Bag         :\t98.20% (982/1000)\nTest accuracy of Ankle boot  :\t95.50% (955/1000)\n"
     ]
    }
   ],
   "source": [
    "for i in range(10):\n",
    "    print('Test accuracy of {:12s}:\\t{:.2f}% ({}/{})'.format(\n",
    "        train_set.classes[i],\n",
    "        test_confmat[i, i]/10,\n",
    "        test_confmat[i, i],\n",
    "        1000))"
   ]
  }
 ]
}